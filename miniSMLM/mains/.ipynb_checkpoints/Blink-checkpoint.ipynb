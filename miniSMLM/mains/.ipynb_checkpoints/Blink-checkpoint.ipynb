{
 "cells": [
  {
   "cell_type": "code",
   "execution_count": 3,
   "id": "86836fff",
   "metadata": {},
   "outputs": [
    {
     "ename": "ModuleNotFoundError",
     "evalue": "No module named 'ssa.utils'",
     "output_type": "error",
     "traceback": [
      "\u001b[0;31m---------------------------------------------------------------------------\u001b[0m",
      "\u001b[0;31mModuleNotFoundError\u001b[0m                       Traceback (most recent call last)",
      "Input \u001b[0;32mIn [3]\u001b[0m, in \u001b[0;36m<cell line: 2>\u001b[0;34m()\u001b[0m\n\u001b[1;32m      1\u001b[0m \u001b[38;5;28;01mfrom\u001b[39;00m \u001b[38;5;21;01mssa\u001b[39;00m\u001b[38;5;21;01m.\u001b[39;00m\u001b[38;5;21;01m_ssa\u001b[39;00m \u001b[38;5;28;01mimport\u001b[39;00m photoswitch\n\u001b[0;32m----> 2\u001b[0m \u001b[38;5;28;01mfrom\u001b[39;00m \u001b[38;5;21;01mssa\u001b[39;00m\u001b[38;5;21;01m.\u001b[39;00m\u001b[38;5;21;01mutils\u001b[39;00m \u001b[38;5;28;01mimport\u001b[39;00m bin_ssa\n\u001b[1;32m      3\u001b[0m \u001b[38;5;28;01mimport\u001b[39;00m \u001b[38;5;21;01mmatplotlib\u001b[39;00m\u001b[38;5;21;01m.\u001b[39;00m\u001b[38;5;21;01mpyplot\u001b[39;00m \u001b[38;5;28;01mas\u001b[39;00m \u001b[38;5;21;01mplt\u001b[39;00m\n\u001b[1;32m      4\u001b[0m \u001b[38;5;28;01mimport\u001b[39;00m \u001b[38;5;21;01mnumpy\u001b[39;00m \u001b[38;5;28;01mas\u001b[39;00m \u001b[38;5;21;01mnp\u001b[39;00m\n",
      "\u001b[0;31mModuleNotFoundError\u001b[0m: No module named 'ssa.utils'"
     ]
    }
   ],
   "source": [
    "from SSA._ssa import photoswitch\n",
    "from SSA.utils import bin_ssa\n",
    "import matplotlib.pyplot as plt\n",
    "import numpy as np\n",
    "\n",
    "T = 100.0\n",
    "k1 = 0.2\n",
    "k2 = 0.1\n",
    "k3 = 0.05\n",
    "k4 = 0.05\n",
    "dt = 0.01\n",
    "trials = 1000\n",
    "X = np.zeros((trials,3,round(T/dt)))\n",
    "for n in range(trials):\n",
    "    x1, x2, x3, times = photoswitch([T,k1,k2,k3,k4])\n",
    "    t_bins, x1_binned, x2_binned, x3_binned = bin_ssa(times, x1, x2, x3, dt, T)\n",
    "    X[n,0,:] = x1_binned\n",
    "    X[n,1,:] = x2_binned\n",
    "    X[n,2,:] = x3_binned\n",
    "\n",
    "x1avg = np.mean(X[:,0,:],axis=0)\n",
    "x2avg = np.mean(X[:,1,:],axis=0)\n",
    "x3avg = np.mean(X[:,2,:],axis=0)\n",
    "\n",
    "plt.plot(t_bins,x1avg)\n",
    "plt.plot(t_bins,x2avg)\n",
    "plt.plot(t_bins,x3avg)\n",
    "plt.show()"
   ]
  },
  {
   "cell_type": "code",
   "execution_count": null,
   "id": "f77f339a",
   "metadata": {},
   "outputs": [],
   "source": []
  }
 ],
 "metadata": {
  "kernelspec": {
   "display_name": "Python 3 (ipykernel)",
   "language": "python",
   "name": "python3"
  },
  "language_info": {
   "codemirror_mode": {
    "name": "ipython",
    "version": 3
   },
   "file_extension": ".py",
   "mimetype": "text/x-python",
   "name": "python",
   "nbconvert_exporter": "python",
   "pygments_lexer": "ipython3",
   "version": "3.9.12"
  }
 },
 "nbformat": 4,
 "nbformat_minor": 5
}
