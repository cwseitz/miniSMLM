{
 "cells": [
  {
   "cell_type": "code",
   "execution_count": null,
   "id": "e4691659",
   "metadata": {},
   "outputs": [],
   "source": [
    "import numpy as np\n",
    "from itertools import product, combinations\n",
    "import matplotlib.pyplot as plt\n",
    "from mpl_toolkits.mplot3d import Axes3D\n",
    "\n",
    "# set the number of monomers and the bond length\n",
    "N = 100\n",
    "l = 1.0\n",
    "\n",
    "# generate random angles\n",
    "theta = np.random.uniform(0, np.pi, N-2)\n",
    "phi = np.random.uniform(0, 2*np.pi, N-2)\n",
    "\n",
    "# compute the positions of the monomers\n",
    "x = np.zeros(N)\n",
    "y = np.zeros(N)\n",
    "z = np.zeros(N)\n",
    "\n",
    "for i in range(1, N):\n",
    "    if i == 1:\n",
    "        x[i] = l * np.sin(theta[i-1]) * np.cos(phi[i-1])\n",
    "        y[i] = l * np.sin(theta[i-1]) * np.sin(phi[i-1])\n",
    "        z[i] = l * np.cos(theta[i-1])\n",
    "    else:\n",
    "        x[i] = x[i-1] + l * np.sin(theta[i-2]) * np.cos(phi[i-2])\n",
    "        y[i] = y[i-1] + l * np.sin(theta[i-2]) * np.sin(phi[i-2])\n",
    "        z[i] = z[i-1] + l * np.cos(theta[i-2])\n",
    "\n",
    "# center the polymer coordinates\n",
    "x = x - np.mean(x)\n",
    "y = y - np.mean(y)\n",
    "z = z - np.mean(z)\n",
    "\n",
    "# plot the polymer in 3D with the ball and stick model\n",
    "fig = plt.figure(figsize=(5,5))\n",
    "ax = fig.add_subplot(111, projection='3d')\n",
    "ax.plot(x, y, z, 'o-', markersize=0.5, linewidth=0.1, color='blue')\n",
    "for i in range(N):\n",
    "    ax.scatter(x[i], y[i], z[i], s=40, c='blue', alpha=0.5)\n",
    "    if i < N-1:\n",
    "        ax.plot([x[i], x[i+1]], [y[i], y[i+1]], [z[i], z[i+1]], linewidth=1.5, color='black')\n",
    "\n",
    "# plot the cube with edges\n",
    "r = [-5, 5]\n",
    "for s, e in combinations(np.array(list(product(r,r,r))), 2):\n",
    "    if np.sum(np.abs(s-e)) == r[1]-r[0]:\n",
    "        ax.plot3D(*zip(s, e), color=\"black\", linewidth=0.5)\n",
    "\n",
    "# turn off the grid\n",
    "ax.grid(False)\n",
    "\n",
    "# turn off the axis labels, ticks, and tick labels\n",
    "ax.set_axis_off()\n",
    "plt.tight_layout()\n",
    "plt.show()\n"
   ]
  }
 ],
 "metadata": {
  "kernelspec": {
   "display_name": "Python 3 (ipykernel)",
   "language": "python",
   "name": "python3"
  },
  "language_info": {
   "codemirror_mode": {
    "name": "ipython",
    "version": 3
   },
   "file_extension": ".py",
   "mimetype": "text/x-python",
   "name": "python",
   "nbconvert_exporter": "python",
   "pygments_lexer": "ipython3",
   "version": "3.10.10"
  }
 },
 "nbformat": 4,
 "nbformat_minor": 5
}
