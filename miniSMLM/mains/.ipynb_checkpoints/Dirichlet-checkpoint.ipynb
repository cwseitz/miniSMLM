{
 "cells": [
  {
   "cell_type": "code",
   "execution_count": null,
   "id": "9ad1ffd4",
   "metadata": {},
   "outputs": [],
   "source": [
    "from SMLM.psf import *\n",
    "from scipy.stats import multivariate_normal\n",
    "import numpy as np"
   ]
  },
  {
   "cell_type": "code",
   "execution_count": null,
   "id": "8e20ee4d",
   "metadata": {},
   "outputs": [],
   "source": [
    "#########################\n",
    "# Parameters\n",
    "#########################\n",
    "\n",
    "L = 20\n",
    "omat = np.ones((L,L))\n",
    "gain0 = 2.2 #huang 2013\n",
    "offset0 = 0.0\n",
    "var0 = 100.0\n",
    "gain = gain0*omat #ADU/e-\n",
    "offset = offset0*omat #ADU\n",
    "var = var0*omat #ADU^2\n",
    "pixel_size = 108.3 #nm\n",
    "sigma = 0.22*640/1.4 #zhang 2007\n",
    "sigma = sigma = sigma/pixel_size\n",
    "texp = 1.0 #seconds\n",
    "eta = 0.8 #quantum efficiency\n",
    "N0 = 1000\n",
    "B0 = 10"
   ]
  },
  {
   "cell_type": "code",
   "execution_count": null,
   "id": "53719e64",
   "metadata": {},
   "outputs": [],
   "source": [
    "nspots = 5\n",
    "theta = np.zeros((5,nspots))\n",
    "theta[0,:] = np.random.uniform(0,L,nspots)\n",
    "theta[1,:] = np.random.uniform(0,L,nspots)\n",
    "theta[2,:] = sigma\n",
    "theta[3,:] = N0\n",
    "theta[4,:] = B0"
   ]
  },
  {
   "cell_type": "code",
   "execution_count": null,
   "id": "003c1ffd",
   "metadata": {},
   "outputs": [],
   "source": [
    "frame = Frame(theta,eta,texp,L,gain,offset,var)\n",
    "frame.generate(plot=True)"
   ]
  },
  {
   "cell_type": "code",
   "execution_count": null,
   "id": "36b1f8a2",
   "metadata": {},
   "outputs": [],
   "source": [
    "errs = get_errors(theta,frame.adu,eta,texp,gain,var,plot=False)"
   ]
  }
 ],
 "metadata": {
  "kernelspec": {
   "display_name": "Python 3 (ipykernel)",
   "language": "python",
   "name": "python3"
  },
  "language_info": {
   "codemirror_mode": {
    "name": "ipython",
    "version": 3
   },
   "file_extension": ".py",
   "mimetype": "text/x-python",
   "name": "python",
   "nbconvert_exporter": "python",
   "pygments_lexer": "ipython3",
   "version": "3.10.10"
  }
 },
 "nbformat": 4,
 "nbformat_minor": 5
}
